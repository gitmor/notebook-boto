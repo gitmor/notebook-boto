{
 "cells": [
  {
   "cell_type": "code",
   "execution_count": 1,
   "metadata": {},
   "outputs": [],
   "source": [
    "# First import the boto AWS Pyhton API module\n",
    "import boto3\n"
   ]
  },
  {
   "cell_type": "markdown",
   "metadata": {},
   "source": [
    "First import all the libraries we need above.\n",
    "    * In the above scenario we have the boto3 import to get the AWS python API\n",
    "        * List any other imports and their meaning or reasoning in above cell in the future\n",
    "    \n",
    "       "
   ]
  },
  {
   "cell_type": "code",
   "execution_count": 2,
   "metadata": {},
   "outputs": [],
   "source": [
    "s3 = boto3.resource('s3')\n",
    "\n",
    "ec2 = boto3.resource('ec2')\n",
    "\n",
    "s3Client = boto3.client ('s3')\n",
    "\n",
    "ec2Client = boto3.client('ec2')"
   ]
  },
  {
   "cell_type": "markdown",
   "metadata": {},
   "source": [
    "At this point we have obtained the S3 and ec2 resources and ec2 clients which will be used by our program\n"
   ]
  },
  {
   "cell_type": "code",
   "execution_count": 3,
   "metadata": {},
   "outputs": [],
   "source": [
    "# List S3 buckets for a given user account\n",
    "def listS3Buckets():\n",
    "    print (\"In method listS3Buckets\")\n",
    "    for bucket in s3.buckets.all():\n",
    "        print (\"bucket[] = \" + bucket.name)\n",
    "\n",
    "        "
   ]
  },
  {
   "cell_type": "markdown",
   "metadata": {},
   "source": [
    "The above function loops through the S3 buckets and lists their names\n"
   ]
  },
  {
   "cell_type": "code",
   "execution_count": 4,
   "metadata": {},
   "outputs": [],
   "source": [
    "#  List S3 buckets and their contents \n",
    "def listS3BucketsAndContents():\n",
    "    print (\"In method listS3BucketsAndContents\")\n",
    "    for bucket in s3.buckets.all():\n",
    "        print (\"\\n\")\n",
    "        print (bucket.name)\n",
    "        for item in bucket.objects.all():\n",
    "            print (\"++++%s\" % item.key)\n",
    "        "
   ]
  },
  {
   "cell_type": "markdown",
   "metadata": {},
   "source": [
    "The above function loops through the S3 buckets and lists their names and contents"
   ]
  },
  {
   "cell_type": "code",
   "execution_count": 5,
   "metadata": {},
   "outputs": [],
   "source": [
    "# Put files to an S3 bucket (Note: For some reason put_object and upload are diff things in AWS)\n",
    "# assumes the \"testbucketcreatedbyslacker1\" bucket exists\n",
    "def puObjectToS3Buckets():\n",
    "    print (\"In method puObjectToS3Buckets\")\n",
    "    data = open ('test.jpg', 'rb')\n",
    "    s3.Bucket('testbucketcreatedbyslacker1').put_object(Key='test.jpg', Body=data)\n",
    "\n",
    "    "
   ]
  },
  {
   "cell_type": "markdown",
   "metadata": {},
   "source": [
    "The above function puts object in an S3 bucket"
   ]
  },
  {
   "cell_type": "code",
   "execution_count": 6,
   "metadata": {},
   "outputs": [],
   "source": [
    "# Upload files to an S3 bucket\n",
    "# assumes the \"testbucketcreatedbyslacker1\" bucket exists\n",
    "def uploadFileToS3Buckets():\n",
    "    print (\"In method uploadFileToS3Buckets\")\n",
    "    s3.Bucket('testbucketcreatedbyslacker1').upload_file('tempDoc.txt','copyname.txt')\n",
    "    \n",
    "\n"
   ]
  },
  {
   "cell_type": "markdown",
   "metadata": {},
   "source": [
    "The above function uploads files to an S3 bucket"
   ]
  },
  {
   "cell_type": "code",
   "execution_count": 7,
   "metadata": {},
   "outputs": [],
   "source": [
    "# List ec2 instances for a given user account\n",
    "def listEc2Instances():\n",
    "    print (\"In method listEc2Instances\")\n",
    "    for inst in ec2.instances.all():\n",
    "        print (\"instance[] = \" + inst.id, inst.state)\n",
    "\n",
    "        "
   ]
  },
  {
   "cell_type": "markdown",
   "metadata": {},
   "source": [
    "The above function lists EC2 instances"
   ]
  },
  {
   "cell_type": "code",
   "execution_count": 8,
   "metadata": {},
   "outputs": [],
   "source": [
    "def describeEc2Instances():\n",
    "    response = ec2Client.describe_instances()\n",
    "    print(response)"
   ]
  },
  {
   "cell_type": "markdown",
   "metadata": {},
   "source": [
    "The above function describes EC2 instances\n",
    "\n",
    "There is one more interface to the services in AWS which is called \"client\". Not sure what these are.\n",
    "In any case, using this client interface on boto3 to get the ec2client and dumping values also seems to work.\n",
    "Key question is to find the difference between \"boto3.resource('ec2') & boto3.client ('ec2'). \n"
   ]
  },
  {
   "cell_type": "code",
   "execution_count": 16,
   "metadata": {
    "scrolled": true
   },
   "outputs": [
    {
     "name": "stdout",
     "output_type": "stream",
     "text": [
      "Enter appropriate action:\n",
      "1. To list S3 buckets \n",
      "2. To list S3 buckets and the contents \n",
      "3. To put objects in S3 \n",
      "4. To upload file to S3 \n",
      "5. To list EC2 instances \n",
      "6. To describe EC2 instances \n",
      "1\n",
      "1\n"
     ]
    }
   ],
   "source": [
    "userinput = int(input (\"Enter appropriate action:\\n\"\n",
    "                    \"1. To list S3 buckets \\n\" \n",
    "                    \"2. To list S3 buckets and the contents \\n\"\n",
    "                    \"3. To put objects in S3 \\n\"\n",
    "                    \"4. To upload file to S3 \\n\"\n",
    "                    \"5. To list EC2 instances \\n\"\n",
    "                    \"6. To describe EC2 instances \\n\"\n",
    "                   ))\n",
    "\n",
    "print (userinput)"
   ]
  },
  {
   "cell_type": "code",
   "execution_count": 17,
   "metadata": {},
   "outputs": [
    {
     "name": "stdout",
     "output_type": "stream",
     "text": [
      "userinput=1\n",
      "In method listS3Buckets\n",
      "bucket[] = testbucketcreatedbyslacker1\n",
      "bucket[] = vkvjuly-terraform-start-guide\n"
     ]
    }
   ],
   "source": [
    "\n",
    "print (\"userinput=\" + str(userinput))\n",
    "if (userinput == 1):\n",
    "    listS3Buckets()\n",
    "elif (userinput == 2):\n",
    "    listS3BucketsAndContents ()\n",
    "elif (userinput == 3):\n",
    "    puObjectToS3Buckets()  \n",
    "elif (userinput == 4):\n",
    "    uploadFileToS3Buckets()\n",
    "elif (userinput == 5):\n",
    "    listEc2Instances()\n",
    "elif (userinput == 6):\n",
    "    describeEc2Instances()\n",
    "else:\n",
    "    print(\"Invalid value\")\n",
    "\n"
   ]
  },
  {
   "cell_type": "code",
   "execution_count": null,
   "metadata": {},
   "outputs": [],
   "source": []
  }
 ],
 "metadata": {
  "kernelspec": {
   "display_name": "Python 3",
   "language": "python",
   "name": "python3"
  },
  "language_info": {
   "codemirror_mode": {
    "name": "ipython",
    "version": 3
   },
   "file_extension": ".py",
   "mimetype": "text/x-python",
   "name": "python",
   "nbconvert_exporter": "python",
   "pygments_lexer": "ipython3",
   "version": "3.6.5"
  }
 },
 "nbformat": 4,
 "nbformat_minor": 2
}
